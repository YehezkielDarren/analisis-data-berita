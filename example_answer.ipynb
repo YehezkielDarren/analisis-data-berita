{
 "cells": [
  {
   "cell_type": "code",
   "execution_count": 2,
   "id": "933b02b0",
   "metadata": {},
   "outputs": [],
   "source": [
    "import csv"
   ]
  },
  {
   "cell_type": "code",
   "execution_count": null,
   "id": "4fea571f",
   "metadata": {},
   "outputs": [
    {
     "name": "stdout",
     "output_type": "stream",
     "text": [
      "Header: ['idKomentar', 'idBerita', 'Komentar', 'Rating']\n",
      "Row: ['1001', '101', 'Syukurlah, akhirnya ada kabar baik! Kebijakan pemerintah memang TOP.', '5']\n",
      "Row: ['1002', '101', 'Bagus, tapi apa dampaknya bagi rakyat kecil? Jangan cuma buat investor senang.', '3']\n",
      "Row: ['1003', '102', 'Harga naik terus, gaji kok tidak?! Pemerintah harusnya lebih peka. Sangat mengecewakan.', '1']\n",
      "Row: ['1004', '102', 'Ini akibat ulah para spekulan, bukan salah pemerintah. Tapi memang butuh pengawasan ketat.', '3']\n",
      "Row: ['1005', '103', 'Salut! Pembangunan ini sangat bermanfaat bagi warga di sana. Semoga merata!', '5']\n",
      "Row: ['1006', '103', 'Proyek mangkrak di mana-mana, ini pasti cuma pencitraan. Sangat tidak efisien.', '2']\n",
      "Row: ['1007', '104', 'Keputusan yang bodoh dan tidak pro-rakyat. Sangat menyedihkan.', '1']\n",
      "Row: ['1008', '104', 'Berani mengambil keputusan sulit adalah ciri pemimpin sejati. Bagus sekali!', '4']\n",
      "Row: ['1009', '104', 'Saya bingung, ada yang bilang bagus, ada yang bilang buruk. Netral saja deh.', '3']\n",
      "Row: ['1010', '105', 'Hebat, bangga jadi WNI! Produk kita diakui global.', '5']\n",
      "Row: ['1011', '105', 'Ekspor naik, tapi harga di dalam negeri tetap mahal. Ada yang salah.', '2']\n",
      "Row: ['1012', '106', 'Betul, ini tantangan global, bukan salah pemerintah kita saja. Harusnya kita saling support.', '4']\n",
      "Row: ['1013', '106', 'Pemerintah selalu cari alasan, inflasi sudah parah kok?!', '2']\n",
      "Row: ['1014', '107', 'Akhirnya dengar masukan, ini langkah yang tepat. Bijak sekali.', '5']\n",
      "Row: ['1015', '107', 'Revisi cuma formalitas, tidak akan banyak berubah. Saya pesimis.', '2']\n",
      "Row: ['1016', '108', 'Program bagus, tapi penyalurannya harus diawasi biar tidak disalahgunakan.', '4']\n",
      "Row: ['1017', '108', 'Alhamdulillah, sangat membantu sekali. Terima kasih Pak.', '5']\n",
      "Row: ['1018', '109', 'RUU ini berbahaya bagi profesi saya! Saya menolak keras!', '1']\n",
      "Row: ['1019', '109', 'Semua pro dan kontra wajar, yang penting dialognya sehat.', '3']\n",
      "Row: ['1020', '110', 'Masa depan bangsa di tangan anak muda kreatif! Senang lihat startup maju.', '5']\n",
      "Row: ['1021', '110', 'Kebanyakan cuma ikut-ikutan, tidak ada inovasi nyata. Biasa saja.', '2']\n",
      "Row: ['1022', '101', 'Bagus, mari dukung terus stabilitas ekonomi!', '4']\n",
      "Row: ['1023', '102', 'Kapan harga sembako turun? Sudah pusing.', '1']\n",
      "Row: ['1024', '104', 'Ini kebijakan yang berani, saya dukung!', '4']\n",
      "Row: ['1025', '108', 'Semoga bantuan ini sampai ke yang berhak.', '4']\n"
     ]
    }
   ],
   "source": [
    "def read_csv(filename):\n",
    "    with open(filename, mode=\"r\") as file:\n",
    "        csv_reader = csv.reader(file)\n",
    "        header=next(csv_reader)\n",
    "        for row in csv_reader:\n",
    "            \n",
    "            reader_dict[header[0]]=  \n",
    "        \n",
    "    return header, csv_reader\n",
    "\n",
    "answer = read_csv(\"comment_news.csv\")\n",
    "print(answer)"
   ]
  }
 ],
 "metadata": {
  "kernelspec": {
   "display_name": "Python 3",
   "language": "python",
   "name": "python3"
  },
  "language_info": {
   "codemirror_mode": {
    "name": "ipython",
    "version": 3
   },
   "file_extension": ".py",
   "mimetype": "text/x-python",
   "name": "python",
   "nbconvert_exporter": "python",
   "pygments_lexer": "ipython3",
   "version": "3.13.7"
  }
 },
 "nbformat": 4,
 "nbformat_minor": 5
}
