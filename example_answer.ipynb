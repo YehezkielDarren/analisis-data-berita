{
 "cells": [
  {
   "cell_type": "code",
   "execution_count": 8,
   "id": "933b02b0",
   "metadata": {},
   "outputs": [],
   "source": [
    "import csv\n",
    "import string\n",
    "import pandas as pd"
   ]
  },
  {
   "cell_type": "code",
   "execution_count": 13,
   "id": "4fea571f",
   "metadata": {},
   "outputs": [
    {
     "name": "stdout",
     "output_type": "stream",
     "text": [
      "         word  frequency\n",
      "0         ini         14\n",
      "1         dan         12\n",
      "2          di         11\n",
      "3        yang         11\n",
      "4  pemerintah         10\n",
      "5         ada          6\n",
      "6       harga          6\n",
      "7       tidak          6\n",
      "8      sangat          6\n",
      "9       bagus          5\n"
     ]
    }
   ],
   "source": [
    "\n",
    "def clean_text(data:str) -> list:\n",
    "    text = data.lower().rstrip()\n",
    "    translator = str.maketrans(\"\",\"\", string.punctuation+string.digits)\n",
    "    result = text.translate(translator).split()\n",
    "    return result\n",
    "    \n",
    "def read_comment(filename):\n",
    "    data=[]\n",
    "    try:\n",
    "        with open(filename, mode=\"r\") as file:\n",
    "            csv_reader = csv.DictReader(file)\n",
    "            for row in csv_reader:\n",
    "                cleanned_comments = clean_text(row['Komentar'])\n",
    "                data.append({\n",
    "                    \"idKomentar\": row[\"idKomentar\"],\n",
    "                    \"idBerita\": row[\"idBerita\"],\n",
    "                    \"komentar\": cleanned_comments,\n",
    "                    \"rating\": row[\"Rating\"]\n",
    "                })\n",
    "    except FileNotFoundError:\n",
    "        return f\"Error: File '{filename}' tidak ditemukan.\"                    \n",
    "    return data\n",
    "\n",
    "def read_news(filename):\n",
    "    data=[]\n",
    "    try:\n",
    "        with open(filename, mode=\"r\") as file:\n",
    "            csv_reader = csv.DictReader(file)\n",
    "            for row in csv_reader:\n",
    "                cleanned_content = clean_text(row['Content'])\n",
    "                data.append({\n",
    "                    \"idBerita\": row[\"idBerita\"],\n",
    "                    \"headline\": row[\"Headline\"],\n",
    "                    \"content\": cleanned_content\n",
    "                })\n",
    "    except FileNotFoundError:\n",
    "        return f\"Error: File '{filename}' tidak ditemukan.\"  \n",
    "    return data\n",
    "\n",
    "if __name__ == \"__main__\":\n",
    "    # read all datas\n",
    "    comment_news = read_comment(\"./comment_news.csv\")\n",
    "    news = read_news(\"./news_data.csv\")\n",
    "    \n",
    "    words_dict = dict()\n",
    "    words = [x[\"komentar\"] for x in comment_news] + [y[\"content\"] for y in news]\n",
    "    # Flatten the list of lists into a single list of words\n",
    "    all_words = []\n",
    "    for word_list in words:\n",
    "        all_words.extend(word_list)\n",
    "    # Count word frequency\n",
    "    for word in all_words:\n",
    "        if word in words_dict:\n",
    "            words_dict[word] += 1\n",
    "        else:\n",
    "            words_dict[word] = 1\n",
    "    # Sort the words_dict by frequency in descending order\n",
    "    sorted_words = sorted(words_dict.items(), key=lambda item: item[1], reverse=True)\n",
    "    df = pd.DataFrame(sorted_words, columns=['word', 'frequency'])\n",
    "    print(df.head(10))\n",
    "        \n",
    "    "
   ]
  }
 ],
 "metadata": {
  "kernelspec": {
   "display_name": "Python 3",
   "language": "python",
   "name": "python3"
  },
  "language_info": {
   "codemirror_mode": {
    "name": "ipython",
    "version": 3
   },
   "file_extension": ".py",
   "mimetype": "text/x-python",
   "name": "python",
   "nbconvert_exporter": "python",
   "pygments_lexer": "ipython3",
   "version": "3.13.7"
  }
 },
 "nbformat": 4,
 "nbformat_minor": 5
}
