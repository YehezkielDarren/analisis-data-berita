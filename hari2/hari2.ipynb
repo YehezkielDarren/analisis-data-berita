{
 "cells": [
  {
   "cell_type": "code",
   "execution_count": null,
   "id": "70dd9cf4",
   "metadata": {},
   "outputs": [],
   "source": [
    "import csv"
   ]
  }
 ],
 "metadata": {
  "language_info": {
   "name": "python"
  }
 },
 "nbformat": 4,
 "nbformat_minor": 5
}
